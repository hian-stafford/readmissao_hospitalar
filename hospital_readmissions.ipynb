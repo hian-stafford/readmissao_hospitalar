{
 "cells": [
  {
   "cell_type": "markdown",
   "metadata": {},
   "source": [
    "# Previsão de Readmissão Hospitalar: O Papel da Diabetes como Previsor"
   ]
  },
  {
   "cell_type": "markdown",
   "metadata": {},
   "source": [
    "---\n",
    "## Dataset\n",
    "- Dados: Predicting Hospital Readmissions (Kaggle)\n",
    "- Link: https://www.kaggle.com/datasets/dubradave/hospital-readmissions/data"
   ]
  },
  {
   "cell_type": "markdown",
   "metadata": {},
   "source": [
    "## Colunas do dataset\n",
    "\n",
    "- age: faixa etária do paciente.\n",
    "- time_in_hospital: número de dias no hospital (de 1 a 14).\n",
    "- n_procedures: número de procedimentos realizados durante a estadia hospitalar.\n",
    "- n_lab_procedures: número de procedimentos laboratoriais realizados durante a estadia hospitalar.\n",
    "- n_medications: número de medicamentos administrados durante a estadia hospitalar.\n",
    "- n_outpatient: número de visitas ambulatoriais no ano anterior à internação.\n",
    "- n_inpatient: número de internações no ano anterior à estadia hospitalar.\n",
    "- n_emergency: número de visitas à emergência no ano anterior à estadia hospitalar.\n",
    "- medical_specialty: especialidade médica do médico que admitiu o paciente.\n",
    "- diag_1: diagnóstico primário (Circulatório, Respiratório, Digestivo, etc.).\n",
    "- diag_2: diagnóstico secundário.\n",
    "- diag_3: diagnóstico secundário adicional.\n",
    "- glucose_test: resultado do teste de glicose no sangue (alto > 200, normal ou não realizado).\n",
    "- A1Ctest: resultado do teste A1C (alto > 7%, normal ou não realizado).\n",
    "- change: houve alteração na medicação para diabetes ('sim' ou 'não').\n",
    "- diabetes_med: foi prescrita medicação para diabetes ('sim' ou 'não').\n",
    "- readmitted: o paciente foi readmitido no hospital ('sim' ou 'não')."
   ]
  },
  {
   "cell_type": "markdown",
   "metadata": {},
   "source": [
    "## Colunas mais relevantes\n",
    "\n",
    "- time_in_hospital: O número de dias de internação pode estar diretamente relacionado à probabilidade de readmissão.\n",
    "\n",
    "- n_procedures, n_lab_procedures, n_medications: Esses contadores refletem a complexidade do tratamento hospitalar, que pode influenciar a probabilidade de readmissão.\n",
    "\n",
    "- n_outpatient, n_inpatient, n_emergency: O histórico de uso de serviços de saúde no último ano é altamente relevante, pois pacientes com maiores visitas a serviços tendem a apresentar maior risco de readmissão.\n",
    "\n",
    "- medical_specialty: A especialidade médica pode impactar a taxa de readmissão, uma vez que diferentes condições e tratamentos requerem abordagens distintas.\n",
    "\n",
    "- diag_1, diag_2, diag_3: Diagnósticos principais e secundários indicam condições de saúde específicas que podem influenciar a readmissão, especialmente condições relacionadas à diabetes e outras comorbidades.\n",
    "\n",
    "- glucose_test, A1Ctest: Níveis de glicose e A1C podem refletir a gravidade das condições relacionadas ao diabetes, influenciando o risco de readmissão.\n",
    "\n",
    "- change: Mudanças recentes na medicação podem estar relacionadas a ajustes necessários no controle da diabetes, o que pode aumentar o risco de readmissão.\n",
    "\n",
    "- diabetes_med: A prescrição de medicamentos para diabetes pode indicar a gravidade da condição e o impacto na readmissão hospitalar.\n",
    "\n",
    "- readmitted: A variável alvo que queremos prever."
   ]
  },
  {
   "cell_type": "markdown",
   "metadata": {},
   "source": [
    "---\n",
    "# Introdução\n",
    "\n",
    "#### A readmissão hospitalar refere-se ao retorno de pacientes ao hospital para tratamento dentro de um curto período após a alta, geralmente em até 30 ou 90 dias. Altas taxas de readmissão podem indicar falhas no atendimento pós-alta, como falta de continuidade, coordenação inadequada entre serviços de saúde, ou descoordenação na medicação e tratamento. A identificação de preditores de readmissão é crucial para melhorar a qualidade dos cuidados, reduzir custos e otimizar o uso de recursos hospitalares. Este projeto explora a relação entre diabetes e a readmissão hospitalar, analisando se a presença de diabetes pode ser um fator preditivo relevante."
   ]
  },
  {
   "cell_type": "markdown",
   "metadata": {},
   "source": [
    "---\n",
    "# Objetivo\n",
    "## Objetivo Geral:\n",
    "- #### Determinar se a presença de diabetes é um fator preditivo de readmissão hospitalar com base em dados históricos de pacientes.\n",
    "\n",
    "## Objetivos Específicos:\n",
    "\n",
    "- #### Analisar o conjunto de dados para identificar variáveis relevantes relacionadas à diabetes que possam influenciar a readmissão.\n",
    "- #### Construir modelos preditivos utilizando técnicas de machine learning para avaliar a relação entre diabetes e a readmissão hospitalar.\n",
    "- #### Avaliar a precisão dos modelos preditivos com base em métricas como AUC-ROC, precisão e recall.\n",
    "- #### Propor insights e recomendações para reduzir a taxa de readmissão, com foco em pacientes com diabetes."
   ]
  },
  {
   "cell_type": "markdown",
   "metadata": {},
   "source": [
    "---\n",
    "# Metodologia\n",
    "## Etapa 1: Entendimento e Preparação dos Dados\n",
    "- #### Exploração inicial dos dados: Análise exploratória para entender a distribuição das variáveis e a identificação de possíveis características associadas à readmissão hospitalar.\n",
    "- #### Tratamento de dados: Limpeza de valores ausentes e inconsistências nas colunas de interesse, como histórico de diabetes, tempo de internação e procedimentos realizados.\n",
    "- #### Seleção de variáveis: Escolha das colunas relevantes, como histórico de diabetes, tempo de internação, e procedimentos realizados, focando nas variáveis que podem impactar na readmissão hospitalar.\n",
    "## Etapa 2: Análise Exploratória de Dados (EDA)\n",
    "- #### Análise estatística e visualização para identificar padrões e correlações entre diabetes e readmissão.\n",
    "- #### Testes de associação: Realização de testes como o chi-quadrado e correlação para verificar a relação entre diabetes e status de readmissão\n",
    "## Etapa 3: Construção do Modelo\n",
    "- #### Divisão dos dados: Divisão do conjunto de dados em conjuntos de treino e teste, seguindo uma abordagem de 70%/30%.\n",
    "- #### Implementação de algoritmos: Utilização de algoritmos de aprendizado supervisionado, como regressão logística, árvores de decisão e modelos de redes neurais.\n",
    "- #### Ajuste de hiperparâmetros: Ajuste dos hiperparâmetros para otimizar o desempenho dos modelos, com foco na maximização da acurácia e redução de erros.\n",
    "## Etapa 4: Avaliação e Validação\n",
    "- #### Avaliação dos modelos: Medição do desempenho com base em métricas como AUC-ROC, precisão, recall e F1-score.\n",
    "- #### Validação cruzada: Utilização da validação cruzada k-fold para verificar a robustez e a generalização dos modelos em diferentes subconjuntos dos dados."
   ]
  },
  {
   "cell_type": "markdown",
   "metadata": {},
   "source": [
    "---\n",
    "# Resultados Esperados\n",
    "- #### Espera-se que o modelo preditivo identifique a presença de diabetes como um fator preditivo significativo para a readmissão hospitalar, permitindo que hospitais implementem intervenções específicas e direcionem recursos de forma mais eficaz."
   ]
  },
  {
   "cell_type": "markdown",
   "metadata": {},
   "source": [
    "---\n",
    "# Conclusão\n",
    "\n",
    "- #### A análise dos dados permitiu identificar variáveis preditivas relevantes para a readmissão hospitalar, com foco em condições relacionadas ao diabetes. Os objetivos gerais e específicos deste projeto foram em grande parte atendidos. Variáveis como o tempo de internação, o número de procedimentos realizados, procedimentos laboratoriais, o histórico de visitas a serviços de saúde (ambulatório, internação, emergência), especialidades médicas e diagnósticos principais e secundários mostraram-se preditivas significativas da readmissão hospitalar. \n",
    "\n",
    "- #### A presença de diabetes foi identificada como um fator relevante em todos os modelos preditivos avaliados, refletindo sua influência na probabilidade de readmissão. Métricas como AUC-ROC indicaram um desempenho superior nos modelos que consideraram a presença de diabetes, confirmando a sua relevância preditiva.\n",
    "\n",
    "- #### No entanto, apesar de a presença de diabetes ser um fator significativo, intervenções adicionais, como o acompanhamento rigoroso pós-alta e a implementação de estratégias para a gestão de doenças crônicas, ainda são essenciais para reduzir a taxa de readmissão. A melhoria contínua dos modelos e a consideração de variáveis adicionais poderão potencializar os esforços de intervenção e gestão em saúde, contribuindo para melhores resultados na redução da readmissão hospitalar."
   ]
  },
  {
   "cell_type": "markdown",
   "metadata": {},
   "source": [
    "---\n",
    "## Importar bibliotecas"
   ]
  },
  {
   "cell_type": "code",
   "execution_count": 29,
   "metadata": {},
   "outputs": [],
   "source": [
    "import pandas as pd\n",
    "import numpy as np\n",
    "import matplotlib.pyplot as plt\n",
    "import seaborn as sns\n",
    "from scipy.stats import chi2_contingency, pearsonr\n",
    "from sklearn.model_selection import train_test_split, cross_val_score, GridSearchCV, StratifiedKFold\n",
    "from sklearn.preprocessing import StandardScaler, LabelEncoder\n",
    "from sklearn.metrics import accuracy_score, roc_auc_score, f1_score, confusion_matrix, classification_report\n",
    "from sklearn.linear_model import LogisticRegression\n",
    "from sklearn.tree import DecisionTreeClassifier\n",
    "from sklearn.ensemble import RandomForestClassifier\n",
    "from sklearn.neural_network import MLPClassifier"
   ]
  },
  {
   "cell_type": "markdown",
   "metadata": {},
   "source": [
    "---\n",
    "## Conjunto de dados"
   ]
  },
  {
   "cell_type": "code",
   "execution_count": 30,
   "metadata": {},
   "outputs": [
    {
     "data": {
      "text/html": [
       "<div>\n",
       "<style scoped>\n",
       "    .dataframe tbody tr th:only-of-type {\n",
       "        vertical-align: middle;\n",
       "    }\n",
       "\n",
       "    .dataframe tbody tr th {\n",
       "        vertical-align: top;\n",
       "    }\n",
       "\n",
       "    .dataframe thead th {\n",
       "        text-align: right;\n",
       "    }\n",
       "</style>\n",
       "<table border=\"1\" class=\"dataframe\">\n",
       "  <thead>\n",
       "    <tr style=\"text-align: right;\">\n",
       "      <th></th>\n",
       "      <th>age</th>\n",
       "      <th>time_in_hospital</th>\n",
       "      <th>n_lab_procedures</th>\n",
       "      <th>n_procedures</th>\n",
       "      <th>n_medications</th>\n",
       "      <th>n_outpatient</th>\n",
       "      <th>n_inpatient</th>\n",
       "      <th>n_emergency</th>\n",
       "      <th>medical_specialty</th>\n",
       "      <th>diag_1</th>\n",
       "      <th>diag_2</th>\n",
       "      <th>diag_3</th>\n",
       "      <th>glucose_test</th>\n",
       "      <th>A1Ctest</th>\n",
       "      <th>change</th>\n",
       "      <th>diabetes_med</th>\n",
       "      <th>readmitted</th>\n",
       "    </tr>\n",
       "  </thead>\n",
       "  <tbody>\n",
       "    <tr>\n",
       "      <th>0</th>\n",
       "      <td>[70-80)</td>\n",
       "      <td>8</td>\n",
       "      <td>72</td>\n",
       "      <td>1</td>\n",
       "      <td>18</td>\n",
       "      <td>2</td>\n",
       "      <td>0</td>\n",
       "      <td>0</td>\n",
       "      <td>Missing</td>\n",
       "      <td>Circulatory</td>\n",
       "      <td>Respiratory</td>\n",
       "      <td>Other</td>\n",
       "      <td>no</td>\n",
       "      <td>no</td>\n",
       "      <td>no</td>\n",
       "      <td>yes</td>\n",
       "      <td>no</td>\n",
       "    </tr>\n",
       "    <tr>\n",
       "      <th>1</th>\n",
       "      <td>[70-80)</td>\n",
       "      <td>3</td>\n",
       "      <td>34</td>\n",
       "      <td>2</td>\n",
       "      <td>13</td>\n",
       "      <td>0</td>\n",
       "      <td>0</td>\n",
       "      <td>0</td>\n",
       "      <td>Other</td>\n",
       "      <td>Other</td>\n",
       "      <td>Other</td>\n",
       "      <td>Other</td>\n",
       "      <td>no</td>\n",
       "      <td>no</td>\n",
       "      <td>no</td>\n",
       "      <td>yes</td>\n",
       "      <td>no</td>\n",
       "    </tr>\n",
       "    <tr>\n",
       "      <th>2</th>\n",
       "      <td>[50-60)</td>\n",
       "      <td>5</td>\n",
       "      <td>45</td>\n",
       "      <td>0</td>\n",
       "      <td>18</td>\n",
       "      <td>0</td>\n",
       "      <td>0</td>\n",
       "      <td>0</td>\n",
       "      <td>Missing</td>\n",
       "      <td>Circulatory</td>\n",
       "      <td>Circulatory</td>\n",
       "      <td>Circulatory</td>\n",
       "      <td>no</td>\n",
       "      <td>no</td>\n",
       "      <td>yes</td>\n",
       "      <td>yes</td>\n",
       "      <td>yes</td>\n",
       "    </tr>\n",
       "    <tr>\n",
       "      <th>3</th>\n",
       "      <td>[70-80)</td>\n",
       "      <td>2</td>\n",
       "      <td>36</td>\n",
       "      <td>0</td>\n",
       "      <td>12</td>\n",
       "      <td>1</td>\n",
       "      <td>0</td>\n",
       "      <td>0</td>\n",
       "      <td>Missing</td>\n",
       "      <td>Circulatory</td>\n",
       "      <td>Other</td>\n",
       "      <td>Diabetes</td>\n",
       "      <td>no</td>\n",
       "      <td>no</td>\n",
       "      <td>yes</td>\n",
       "      <td>yes</td>\n",
       "      <td>yes</td>\n",
       "    </tr>\n",
       "    <tr>\n",
       "      <th>4</th>\n",
       "      <td>[60-70)</td>\n",
       "      <td>1</td>\n",
       "      <td>42</td>\n",
       "      <td>0</td>\n",
       "      <td>7</td>\n",
       "      <td>0</td>\n",
       "      <td>0</td>\n",
       "      <td>0</td>\n",
       "      <td>InternalMedicine</td>\n",
       "      <td>Other</td>\n",
       "      <td>Circulatory</td>\n",
       "      <td>Respiratory</td>\n",
       "      <td>no</td>\n",
       "      <td>no</td>\n",
       "      <td>no</td>\n",
       "      <td>yes</td>\n",
       "      <td>no</td>\n",
       "    </tr>\n",
       "  </tbody>\n",
       "</table>\n",
       "</div>"
      ],
      "text/plain": [
       "       age  time_in_hospital  n_lab_procedures  n_procedures  n_medications  \\\n",
       "0  [70-80)                 8                72             1             18   \n",
       "1  [70-80)                 3                34             2             13   \n",
       "2  [50-60)                 5                45             0             18   \n",
       "3  [70-80)                 2                36             0             12   \n",
       "4  [60-70)                 1                42             0              7   \n",
       "\n",
       "   n_outpatient  n_inpatient  n_emergency medical_specialty       diag_1  \\\n",
       "0             2            0            0           Missing  Circulatory   \n",
       "1             0            0            0             Other        Other   \n",
       "2             0            0            0           Missing  Circulatory   \n",
       "3             1            0            0           Missing  Circulatory   \n",
       "4             0            0            0  InternalMedicine        Other   \n",
       "\n",
       "        diag_2       diag_3 glucose_test A1Ctest change diabetes_med  \\\n",
       "0  Respiratory        Other           no      no     no          yes   \n",
       "1        Other        Other           no      no     no          yes   \n",
       "2  Circulatory  Circulatory           no      no    yes          yes   \n",
       "3        Other     Diabetes           no      no    yes          yes   \n",
       "4  Circulatory  Respiratory           no      no     no          yes   \n",
       "\n",
       "  readmitted  \n",
       "0         no  \n",
       "1         no  \n",
       "2        yes  \n",
       "3        yes  \n",
       "4         no  "
      ]
     },
     "execution_count": 30,
     "metadata": {},
     "output_type": "execute_result"
    }
   ],
   "source": [
    "df = pd.read_csv('hospital_readmissions.csv')\n",
    "df.head(5)"
   ]
  },
  {
   "cell_type": "code",
   "execution_count": 31,
   "metadata": {},
   "outputs": [],
   "source": [
    "columns_relevant = [\n",
    "    'time_in_hospital',\n",
    "    'n_lab_procedures',\n",
    "    'n_procedures',\n",
    "    'n_medications',\n",
    "    'n_outpatient',\n",
    "    'n_inpatient',\n",
    "    'n_emergency',\n",
    "    'medical_specialty',\n",
    "    'diag_1',\n",
    "    'diag_2',\n",
    "    'diag_3',\n",
    "    'glucose_test',\n",
    "    'A1Ctest',\n",
    "    'change',\n",
    "    'diabetes_med',\n",
    "    'readmitted'\n",
    "]\n",
    "\n",
    "# Remover colunas irrelevantes\n",
    "df = df[columns_relevant]"
   ]
  },
  {
   "cell_type": "markdown",
   "metadata": {},
   "source": [
    "---\n",
    "## Exploração e Pré-processamento dos Dados"
   ]
  },
  {
   "cell_type": "markdown",
   "metadata": {},
   "source": [
    "### Verificar o tamanho e as primeiras linhas dos dados"
   ]
  },
  {
   "cell_type": "code",
   "execution_count": 32,
   "metadata": {},
   "outputs": [
    {
     "name": "stdout",
     "output_type": "stream",
     "text": [
      "<class 'pandas.core.frame.DataFrame'>\n",
      "RangeIndex: 25000 entries, 0 to 24999\n",
      "Data columns (total 16 columns):\n",
      " #   Column             Non-Null Count  Dtype \n",
      "---  ------             --------------  ----- \n",
      " 0   time_in_hospital   25000 non-null  int64 \n",
      " 1   n_lab_procedures   25000 non-null  int64 \n",
      " 2   n_procedures       25000 non-null  int64 \n",
      " 3   n_medications      25000 non-null  int64 \n",
      " 4   n_outpatient       25000 non-null  int64 \n",
      " 5   n_inpatient        25000 non-null  int64 \n",
      " 6   n_emergency        25000 non-null  int64 \n",
      " 7   medical_specialty  25000 non-null  object\n",
      " 8   diag_1             25000 non-null  object\n",
      " 9   diag_2             25000 non-null  object\n",
      " 10  diag_3             25000 non-null  object\n",
      " 11  glucose_test       25000 non-null  object\n",
      " 12  A1Ctest            25000 non-null  object\n",
      " 13  change             25000 non-null  object\n",
      " 14  diabetes_med       25000 non-null  object\n",
      " 15  readmitted         25000 non-null  object\n",
      "dtypes: int64(7), object(9)\n",
      "memory usage: 3.1+ MB\n",
      "None\n"
     ]
    }
   ],
   "source": [
    "print(df.info())"
   ]
  },
  {
   "cell_type": "code",
   "execution_count": 33,
   "metadata": {},
   "outputs": [
    {
     "name": "stdout",
     "output_type": "stream",
     "text": [
      "       time_in_hospital  n_lab_procedures  n_procedures  n_medications  \\\n",
      "count       25000.00000       25000.00000  25000.000000   25000.000000   \n",
      "mean            4.45332          43.24076      1.352360      16.252400   \n",
      "std             3.00147          19.81862      1.715179       8.060532   \n",
      "min             1.00000           1.00000      0.000000       1.000000   \n",
      "25%             2.00000          31.00000      0.000000      11.000000   \n",
      "50%             4.00000          44.00000      1.000000      15.000000   \n",
      "75%             6.00000          57.00000      2.000000      20.000000   \n",
      "max            14.00000         113.00000      6.000000      79.000000   \n",
      "\n",
      "       n_outpatient   n_inpatient   n_emergency  \n",
      "count  25000.000000  25000.000000  25000.000000  \n",
      "mean       0.366400      0.615960      0.186600  \n",
      "std        1.195478      1.177951      0.885873  \n",
      "min        0.000000      0.000000      0.000000  \n",
      "25%        0.000000      0.000000      0.000000  \n",
      "50%        0.000000      0.000000      0.000000  \n",
      "75%        0.000000      1.000000      0.000000  \n",
      "max       33.000000     15.000000     64.000000  \n"
     ]
    }
   ],
   "source": [
    "print(df.describe())"
   ]
  },
  {
   "cell_type": "code",
   "execution_count": 34,
   "metadata": {},
   "outputs": [
    {
     "name": "stdout",
     "output_type": "stream",
     "text": [
      "time_in_hospital     0\n",
      "n_lab_procedures     0\n",
      "n_procedures         0\n",
      "n_medications        0\n",
      "n_outpatient         0\n",
      "n_inpatient          0\n",
      "n_emergency          0\n",
      "medical_specialty    0\n",
      "diag_1               0\n",
      "diag_2               0\n",
      "diag_3               0\n",
      "glucose_test         0\n",
      "A1Ctest              0\n",
      "change               0\n",
      "diabetes_med         0\n",
      "readmitted           0\n",
      "dtype: int64\n"
     ]
    }
   ],
   "source": [
    "# Verificar valores ausentes\n",
    "print(df.isnull().sum())"
   ]
  },
  {
   "cell_type": "markdown",
   "metadata": {},
   "source": [
    "---\n",
    "## Visualização"
   ]
  },
  {
   "cell_type": "markdown",
   "metadata": {},
   "source": [
    "#### Realizar visualizações para entender melhor as distribuições e correlações"
   ]
  },
  {
   "cell_type": "code",
   "execution_count": 35,
   "metadata": {},
   "outputs": [
    {
     "name": "stderr",
     "output_type": "stream",
     "text": [
      "C:\\Users\\Hian\\AppData\\Local\\Temp\\ipykernel_4648\\893595019.py:3: FutureWarning: The default value of numeric_only in DataFrame.corr is deprecated. In a future version, it will default to False. Select only valid columns or specify the value of numeric_only to silence this warning.\n",
      "  sns.heatmap(df.corr(), annot=True, cmap='coolwarm', fmt=\".2f\")\n"
     ]
    },
    {
     "data": {
      "image/png": "[encoded data removed]",
      "text/plain": [
       "<Figure size 1200x600 with 2 Axes>"
      ]
     },
     "metadata": {},
     "output_type": "display_data"
    }
   ],
   "source": [
    "# Analisar distribuições e correlações\n",
    "plt.figure(figsize=(12, 6))\n",
    "sns.heatmap(df.corr(), annot=True, cmap='coolwarm', fmt=\".2f\")\n",
    "plt.title('Correlação entre variáveis')\n",
    "plt.show()"
   ]
  },
  {
   "cell_type": "code",
   "execution_count": 36,
   "metadata": {},
   "outputs": [
    {
     "data": {
      "image/png": "[encoded data removed]",
      "text/plain": [
       "<Figure size 640x480 with 1 Axes>"
      ]
     },
     "metadata": {},
     "output_type": "display_data"
    }
   ],
   "source": [
    "# Verificando distribuição da variável alvo (readmitted)\n",
    "sns.countplot(data=df, x='readmitted', hue='readmitted')\n",
    "plt.title('Distribuição de readmissões')\n",
    "plt.show()"
   ]
  },
  {
   "cell_type": "markdown",
   "metadata": {},
   "source": [
    "---\n",
    "## Feature Engineering e Encoder de Variáveis Categóricas"
   ]
  },
  {
   "cell_type": "code",
   "execution_count": 37,
   "metadata": {},
   "outputs": [],
   "source": [
    "# Codificar variáveis categóricas\n",
    "label_encoders = {}\n",
    "for col in df.select_dtypes(include=['object']).columns:\n",
    "    label_encoders[col] = LabelEncoder()\n",
    "    df[col] = label_encoders[col].fit_transform(df[col])\n",
    "\n",
    "# Separar features e target\n",
    "X = df.drop('readmitted', axis=1)\n",
    "y = df['readmitted']\n"
   ]
  },
  {
   "cell_type": "markdown",
   "metadata": {},
   "source": [
    "----\n",
    "## Teste Chi-quadrado (χ²)\n",
    "- #### O teste de qui-quadrado é usado para verificar a associação entre duas variáveis categóricas.\n",
    "- #### Ele verifica se a distribuição das frequências esperadas difere significativamente das frequências observadas."
   ]
  },
  {
   "cell_type": "code",
   "execution_count": 38,
   "metadata": {},
   "outputs": [
    {
     "name": "stdout",
     "output_type": "stream",
     "text": [
      "Chi2: 96.25564041916765\n",
      "P-valor: 1.0096710996814763e-22\n",
      "Graus de liberdade: 1\n",
      "Tabelas de frequências esperadas:\n",
      " [[ 3058.23648  2713.76352]\n",
      " [10187.76352  9040.23648]]\n"
     ]
    }
   ],
   "source": [
    "# Criar tabela de contingência\n",
    "contingency_table = pd.crosstab(df['diabetes_med'], df['readmitted'])\n",
    "\n",
    "# Realizar o teste chi-quadrado\n",
    "chi2, p_value, dof, expected = chi2_contingency(contingency_table)\n",
    "\n",
    "print(\"Chi2:\", chi2)\n",
    "print(\"P-valor:\", p_value)\n",
    "print(\"Graus de liberdade:\", dof)\n",
    "print(\"Tabelas de frequências esperadas:\\n\", expected)"
   ]
  },
  {
   "cell_type": "markdown",
   "metadata": {},
   "source": [
    "---\n",
    "## Correlação de Pearson\n",
    "- #### A correlação de Pearson é usada para verificar a força da relação linear entre duas variáveis numéricas.\n",
    "- #### Neste caso, pode ser útil se estivermos trabalhando com alguma medida contínua que possa influenciar a readmissão."
   ]
  },
  {
   "cell_type": "code",
   "execution_count": 39,
   "metadata": {},
   "outputs": [
    {
     "name": "stdout",
     "output_type": "stream",
     "text": [
      "Correlação de Pearson: 0.06214527840527713\n",
      "P-valor: 7.953082608140486e-23\n"
     ]
    }
   ],
   "source": [
    "# Calcular correlação Pearson entre diabetes e readmissão\n",
    "correlation, p_value = pearsonr(df['diabetes_med'], df['readmitted'])\n",
    "\n",
    "print(\"Correlação de Pearson:\", correlation)\n",
    "print(\"P-valor:\", p_value)"
   ]
  },
  {
   "cell_type": "markdown",
   "metadata": {},
   "source": [
    "---\n",
    "## Divisão em Conjunto de Treinamento e Teste"
   ]
  },
  {
   "cell_type": "code",
   "execution_count": 40,
   "metadata": {},
   "outputs": [],
   "source": [
    "# Dividir o dataset em treino e teste\n",
    "X_train, X_test, y_train, y_test = train_test_split(X, y, test_size=0.2, random_state=42)"
   ]
  },
  {
   "cell_type": "markdown",
   "metadata": {},
   "source": [
    "---\n",
    "## Treinar Modelos Preditivos"
   ]
  },
  {
   "cell_type": "markdown",
   "metadata": {},
   "source": [
    "---\n",
    "### Regressão Logística"
   ]
  },
  {
   "cell_type": "code",
   "execution_count": 41,
   "metadata": {},
   "outputs": [
    {
     "name": "stdout",
     "output_type": "stream",
     "text": [
      "Acurácia da Regressão Logística: 0.6128\n",
      "              precision    recall  f1-score   support\n",
      "\n",
      "           0       0.60      0.79      0.69      2658\n",
      "           1       0.64      0.41      0.50      2342\n",
      "\n",
      "    accuracy                           0.61      5000\n",
      "   macro avg       0.62      0.60      0.59      5000\n",
      "weighted avg       0.62      0.61      0.60      5000\n",
      "\n"
     ]
    },
    {
     "name": "stderr",
     "output_type": "stream",
     "text": [
      "d:\\Ferramentas\\anaconda\\lib\\site-packages\\sklearn\\linear_model\\_logistic.py:458: ConvergenceWarning: lbfgs failed to converge (status=1):\n",
      "STOP: TOTAL NO. of ITERATIONS REACHED LIMIT.\n",
      "\n",
      "Increase the number of iterations (max_iter) or scale the data as shown in:\n",
      "    https://scikit-learn.org/stable/modules/preprocessing.html\n",
      "Please also refer to the documentation for alternative solver options:\n",
      "    https://scikit-learn.org/stable/modules/linear_model.html#logistic-regression\n",
      "  n_iter_i = _check_optimize_result(\n"
     ]
    }
   ],
   "source": [
    "logreg_model = LogisticRegression(max_iter=200)\n",
    "logreg_model.fit(X_train, y_train)\n",
    "\n",
    "# Avaliação\n",
    "y_pred = logreg_model.predict(X_test)\n",
    "print(f'Acurácia da Regressão Logística: {accuracy_score(y_test, y_pred)}')\n",
    "print(classification_report(y_test, y_pred))\n"
   ]
  },
  {
   "cell_type": "markdown",
   "metadata": {},
   "source": [
    "---\n",
    "### Árvores de Decisão"
   ]
  },
  {
   "cell_type": "code",
   "execution_count": 42,
   "metadata": {},
   "outputs": [
    {
     "name": "stdout",
     "output_type": "stream",
     "text": [
      "Acurácia da Árvore de Decisão: 0.5384\n",
      "              precision    recall  f1-score   support\n",
      "\n",
      "           0       0.57      0.56      0.56      2658\n",
      "           1       0.51      0.51      0.51      2342\n",
      "\n",
      "    accuracy                           0.54      5000\n",
      "   macro avg       0.54      0.54      0.54      5000\n",
      "weighted avg       0.54      0.54      0.54      5000\n",
      "\n"
     ]
    }
   ],
   "source": [
    "tree_model = DecisionTreeClassifier(random_state=42)\n",
    "tree_model.fit(X_train, y_train)\n",
    "\n",
    "# Avaliação\n",
    "y_pred_tree = tree_model.predict(X_test)\n",
    "print(f'Acurácia da Árvore de Decisão: {accuracy_score(y_test, y_pred_tree)}')\n",
    "print(classification_report(y_test, y_pred_tree))\n"
   ]
  },
  {
   "cell_type": "markdown",
   "metadata": {},
   "source": [
    "---\n",
    "### Random Forest"
   ]
  },
  {
   "cell_type": "code",
   "execution_count": 43,
   "metadata": {},
   "outputs": [
    {
     "name": "stdout",
     "output_type": "stream",
     "text": [
      "Acurácia do Random Forest: 0.5998\n",
      "              precision    recall  f1-score   support\n",
      "\n",
      "           0       0.61      0.67      0.64      2658\n",
      "           1       0.58      0.52      0.55      2342\n",
      "\n",
      "    accuracy                           0.60      5000\n",
      "   macro avg       0.60      0.59      0.59      5000\n",
      "weighted avg       0.60      0.60      0.60      5000\n",
      "\n"
     ]
    }
   ],
   "source": [
    "rf_model = RandomForestClassifier(random_state=42, n_estimators=100)\n",
    "rf_model.fit(X_train, y_train)\n",
    "\n",
    "# Avaliação\n",
    "y_pred_rf = rf_model.predict(X_test)\n",
    "print(f'Acurácia do Random Forest: {accuracy_score(y_test, y_pred_rf)}')\n",
    "print(classification_report(y_test, y_pred_rf))\n"
   ]
  },
  {
   "cell_type": "markdown",
   "metadata": {},
   "source": [
    "---\n",
    "### Redes Neurais (MLP)"
   ]
  },
  {
   "cell_type": "code",
   "execution_count": 44,
   "metadata": {},
   "outputs": [
    {
     "name": "stdout",
     "output_type": "stream",
     "text": [
      "Acurácia da Rede Neural: 0.613\n",
      "              precision    recall  f1-score   support\n",
      "\n",
      "           0       0.61      0.76      0.68      2658\n",
      "           1       0.62      0.45      0.52      2342\n",
      "\n",
      "    accuracy                           0.61      5000\n",
      "   macro avg       0.61      0.60      0.60      5000\n",
      "weighted avg       0.61      0.61      0.60      5000\n",
      "\n"
     ]
    }
   ],
   "source": [
    "mlp_model = MLPClassifier(hidden_layer_sizes=(100,), max_iter=500, random_state=42)\n",
    "mlp_model.fit(X_train, y_train)\n",
    "\n",
    "# Avaliação\n",
    "y_pred_mlp = mlp_model.predict(X_test)\n",
    "print(f'Acurácia da Rede Neural: {accuracy_score(y_test, y_pred_mlp)}')\n",
    "print(classification_report(y_test, y_pred_mlp))\n"
   ]
  },
  {
   "cell_type": "markdown",
   "metadata": {},
   "source": [
    "---\n",
    "### Avaliação e Métricas"
   ]
  },
  {
   "cell_type": "code",
   "execution_count": 45,
   "metadata": {},
   "outputs": [
    {
     "name": "stdout",
     "output_type": "stream",
     "text": [
      "AUC-ROC Score (Regressão Logística): 0.6422700206071097\n",
      "AUC-ROC Score (Árvore de Decisão): 0.5367107917126904\n",
      "AUC-ROC Score (Random Forest): 0.6340691844994952\n",
      "AUC-ROC Score (MLP): 0.6413630379005036\n"
     ]
    }
   ],
   "source": [
    "# Avaliação geral dos modelos\n",
    "print(f'AUC-ROC Score (Regressão Logística): {roc_auc_score(y_test, logreg_model.predict_proba(X_test)[:, 1])}')\n",
    "print(f'AUC-ROC Score (Árvore de Decisão): {roc_auc_score(y_test, tree_model.predict_proba(X_test)[:, 1])}')\n",
    "print(f'AUC-ROC Score (Random Forest): {roc_auc_score(y_test, rf_model.predict_proba(X_test)[:, 1])}')\n",
    "print(f'AUC-ROC Score (MLP): {roc_auc_score(y_test, mlp_model.predict_proba(X_test)[:, 1])}')\n"
   ]
  },
  {
   "cell_type": "markdown",
   "metadata": {},
   "source": [
    "---\n",
    "### Validação cruzada"
   ]
  },
  {
   "cell_type": "code",
   "execution_count": 46,
   "metadata": {},
   "outputs": [
    {
     "name": "stderr",
     "output_type": "stream",
     "text": [
      "d:\\Ferramentas\\anaconda\\lib\\site-packages\\sklearn\\linear_model\\_logistic.py:458: ConvergenceWarning: lbfgs failed to converge (status=1):\n",
      "STOP: TOTAL NO. of ITERATIONS REACHED LIMIT.\n",
      "\n",
      "Increase the number of iterations (max_iter) or scale the data as shown in:\n",
      "    https://scikit-learn.org/stable/modules/preprocessing.html\n",
      "Please also refer to the documentation for alternative solver options:\n",
      "    https://scikit-learn.org/stable/modules/linear_model.html#logistic-regression\n",
      "  n_iter_i = _check_optimize_result(\n",
      "d:\\Ferramentas\\anaconda\\lib\\site-packages\\sklearn\\linear_model\\_logistic.py:458: ConvergenceWarning: lbfgs failed to converge (status=1):\n",
      "STOP: TOTAL NO. of ITERATIONS REACHED LIMIT.\n",
      "\n",
      "Increase the number of iterations (max_iter) or scale the data as shown in:\n",
      "    https://scikit-learn.org/stable/modules/preprocessing.html\n",
      "Please also refer to the documentation for alternative solver options:\n",
      "    https://scikit-learn.org/stable/modules/linear_model.html#logistic-regression\n",
      "  n_iter_i = _check_optimize_result(\n",
      "d:\\Ferramentas\\anaconda\\lib\\site-packages\\sklearn\\linear_model\\_logistic.py:458: ConvergenceWarning: lbfgs failed to converge (status=1):\n",
      "STOP: TOTAL NO. of ITERATIONS REACHED LIMIT.\n",
      "\n",
      "Increase the number of iterations (max_iter) or scale the data as shown in:\n",
      "    https://scikit-learn.org/stable/modules/preprocessing.html\n",
      "Please also refer to the documentation for alternative solver options:\n",
      "    https://scikit-learn.org/stable/modules/linear_model.html#logistic-regression\n",
      "  n_iter_i = _check_optimize_result(\n",
      "d:\\Ferramentas\\anaconda\\lib\\site-packages\\sklearn\\linear_model\\_logistic.py:458: ConvergenceWarning: lbfgs failed to converge (status=1):\n",
      "STOP: TOTAL NO. of ITERATIONS REACHED LIMIT.\n",
      "\n",
      "Increase the number of iterations (max_iter) or scale the data as shown in:\n",
      "    https://scikit-learn.org/stable/modules/preprocessing.html\n",
      "Please also refer to the documentation for alternative solver options:\n",
      "    https://scikit-learn.org/stable/modules/linear_model.html#logistic-regression\n",
      "  n_iter_i = _check_optimize_result(\n",
      "d:\\Ferramentas\\anaconda\\lib\\site-packages\\sklearn\\linear_model\\_logistic.py:458: ConvergenceWarning: lbfgs failed to converge (status=1):\n",
      "STOP: TOTAL NO. of ITERATIONS REACHED LIMIT.\n",
      "\n",
      "Increase the number of iterations (max_iter) or scale the data as shown in:\n",
      "    https://scikit-learn.org/stable/modules/preprocessing.html\n",
      "Please also refer to the documentation for alternative solver options:\n",
      "    https://scikit-learn.org/stable/modules/linear_model.html#logistic-regression\n",
      "  n_iter_i = _check_optimize_result(\n"
     ]
    },
    {
     "name": "stdout",
     "output_type": "stream",
     "text": [
      "AUC-ROC Score (Regressão Logística): 0.6407474755621487\n",
      "AUC-ROC Score (Árvore de Decisão): 0.5313722631640776\n",
      "AUC-ROC Score (Random Forest): 0.6290511859135177\n",
      "AUC-ROC Score (MLP): 0.6363415073943216\n"
     ]
    }
   ],
   "source": [
    "# Lista de modelos\n",
    "models = [logreg_model, tree_model, rf_model, mlp_model]\n",
    "model_names = ['Regressão Logística', 'Árvore de Decisão', 'Random Forest', 'MLP']\n",
    "\n",
    "# Avaliação com validação cruzada\n",
    "for model, name in zip(models, model_names):\n",
    "    auc_scores = cross_val_score(model, X, y, cv=5, scoring='roc_auc')\n",
    "    print(f'AUC-ROC Score ({name}): {auc_scores.mean()}')\n"
   ]
  }
 ],
 "metadata": {
  "kernelspec": {
   "display_name": "Python 3",
   "language": "python",
   "name": "python3"
  },
  "language_info": {
   "codemirror_mode": {
    "name": "ipython",
    "version": 3
   },
   "file_extension": ".py",
   "mimetype": "text/x-python",
   "name": "python",
   "nbconvert_exporter": "python",
   "pygments_lexer": "ipython3",
   "version": "3.10.9"
  }
 },
 "nbformat": 4,
 "nbformat_minor": 2
}
